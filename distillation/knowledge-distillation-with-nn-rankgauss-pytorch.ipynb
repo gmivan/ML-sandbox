{
 "cells": [
  {
   "cell_type": "markdown",
   "metadata": {},
   "source": [
    "# Knowledge Distillation with PyTorch\n",
    "\n",
    "This notebook implements knowledge distillation using PyTorch. Knowledge distillation is a technique where a smaller model (student) learns from both the ground truth labels and the predictions of a larger model (teacher).\n",
    "\n",
    "## Overview\n",
    "1. Import required libraries\n",
    "2. Define the student model architecture\n",
    "3. Implement custom loss functions\n",
    "4. Create data loading and preprocessing pipeline\n",
    "5. Train the model with k-fold cross validation\n",
    "6. Make predictions and visualize results"
   ]
  },
  {
   "cell_type": "code",
   "execution_count": null,
   "metadata": {},
   "outputs": [],
   "source": [
    "import torch\n",
    "import torch.nn as nn\n",
    "import torch.optim as optim\n",
    "from torch.utils.data import Dataset, DataLoader\n",
    "import numpy as np\n",
    "import pandas as pd\n",
    "from sklearn.model_selection import KFold\n",
    "from sklearn.preprocessing import StandardScaler, QuantileTransformer\n",
    "import matplotlib.pyplot as plt\n",
    "from tqdm.notebook import tqdm\n",
    "import gc\n",
    "import os\n",
    "import warnings\n",
    "warnings.filterwarnings('ignore')"
   ]
  },
  {
   "cell_type": "markdown",
   "metadata": {},
   "source": [
    "## Model Architecture\n",
    "\n",
    "We define a simple neural network as our student model. The model takes input features and outputs two probabilities using sigmoid activation:"
   ]
  },
  {
   "cell_type": "code",
   "execution_count": null,
   "metadata": {},
   "outputs": [],
   "source": [
    "class StudentModel(nn.Module):\n",
    "    def __init__(self, input_shape):\n",
    "        super(StudentModel, self).__init__()\n",
    "        self.flatten = nn.Flatten()\n",
    "        self.layer1 = nn.Linear(input_shape, 16)\n",
    "        self.relu = nn.ReLU()\n",
    "        self.output = nn.Linear(16, 2)\n",
    "        self.sigmoid = nn.Sigmoid()\n",
    "    \n",
    "    def forward(self, x):\n",
    "        x = self.flatten(x)\n",
    "        x = self.relu(self.layer1(x))\n",
    "        x = self.sigmoid(self.output(x))\n",
    "        return x"
   ]
  },
  {
   "cell_type": "markdown",
   "metadata": {},
   "source": [
    "## Loss Functions\n",
    "\n",
    "We implement the focal loss and knowledge distillation loss functions:"
   ]
  },
  {
   "cell_type": "code",
   "execution_count": null,
   "metadata": {},
   "outputs": [],
   "source": [
    "def focal_loss(y_true, y_pred, gamma=2.0):\n",
    "    epsilon = 1e-7\n",
    "    y_pred = torch.clamp(y_pred, epsilon, 1.0 - epsilon)\n",
    "    cross_entropy = -y_true * torch.log(y_pred)\n",
    "    focal_weight = (1 - y_pred) ** gamma\n",
    "    return torch.mean(focal_weight * cross_entropy)\n",
    "\n",
    "def knowledge_distillation_loss(y_true, y_pred, beta=0.1):\n",
    "    # Split ground truth and teacher predictions\n",
    "    true_labels = y_true[:, :1]\n",
    "    teacher_preds = y_true[:, 1:]\n",
    "    \n",
    "    # Split student predictions\n",
    "    student_preds1 = y_pred[:, :1]\n",
    "    student_preds2 = y_pred[:, 1:]\n",
    "    \n",
    "    # Calculate losses\n",
    "    fl_loss = focal_loss(true_labels, student_preds1)\n",
    "    distill_loss = nn.BCELoss()(student_preds2, teacher_preds)\n",
    "    \n",
    "    return beta * fl_loss + (1 - beta) * distill_loss"
   ]
  },
  {
   "cell_type": "markdown",
   "metadata": {},
   "source": [
    "## Data Loading\n",
    "\n",
    "Create a custom Dataset class for loading the training data:"
   ]
  },
  {
   "cell_type": "code",
   "execution_count": null,
   "metadata": {},
   "outputs": [],
   "source": [
    "class CustomDataset(Dataset):\n",
    "    def __init__(self, features, targets):\n",
    "        self.features = torch.FloatTensor(features)\n",
    "        self.targets = torch.FloatTensor(targets)\n",
    "        \n",
    "    def __len__(self):\n",
    "        return len(self.features)\n",
    "    \n",
    "    def __getitem__(self, idx):\n",
    "        return self.features[idx], self.targets[idx]"
   ]
  },
  {
   "cell_type": "markdown",
   "metadata": {},
   "source": [
    "## Training Loop\n",
    "\n",
    "Define the training function with k-fold cross validation:"
   ]
  },
  {
   "cell_type": "code",
   "execution_count": null,
   "metadata": {},
   "outputs": [],
   "source": [
    "def train_model(X, y, teacher_preds, n_splits=5, epochs=100, batch_size=32):\n",
    "    device = torch.device('cuda' if torch.cuda.is_available() else 'cpu')\n",
    "    kfold = KFold(n_splits=n_splits, shuffle=True)\n",
    "    fold_scores = []\n",
    "    \n",
    "    for fold, (train_idx, val_idx) in enumerate(kfold.split(X)):\n",
    "        print(f'Training fold {fold + 1}/{n_splits}')\n",
    "        \n",
    "        # Prepare data\n",
    "        X_train, X_val = X[train_idx], X[val_idx]\n",
    "        y_train = np.column_stack([y[train_idx], teacher_preds[train_idx]])\n",
    "        y_val = np.column_stack([y[val_idx], teacher_preds[val_idx]])\n",
    "        \n",
    "        # Create data loaders\n",
    "        train_dataset = CustomDataset(X_train, y_train)\n",
    "        val_dataset = CustomDataset(X_val, y_val)\n",
    "        train_loader = DataLoader(train_dataset, batch_size=batch_size, shuffle=True)\n",
    "        val_loader = DataLoader(val_dataset, batch_size=batch_size)\n",
    "        \n",
    "        # Initialize model\n",
    "        model = StudentModel(X.shape[1]).to(device)\n",
    "        optimizer = optim.Adam(model.parameters())\n",
    "        \n",
    "        # Training loop\n",
    "        best_val_loss = float('inf')\n",
    "        for epoch in range(epochs):\n",
    "            model.train()\n",
    "            train_losses = []\n",
    "            for batch_X, batch_y in train_loader:\n",
    "                batch_X, batch_y = batch_X.to(device), batch_y.to(device)\n",
    "                optimizer.zero_grad()\n",
    "                outputs = model(batch_X)\n",
    "                loss = knowledge_distillation_loss(batch_y, outputs)\n",
    "                loss.backward()\n",
    "                optimizer.step()\n",
    "                train_losses.append(loss.item())\n",
    "            \n",
    "            # Validation\n",
    "            model.eval()\n",
    "            val_losses = []\n",
    "            with torch.no_grad():\n",
    "                for batch_X, batch_y in val_loader:\n",
    "                    batch_X, batch_y = batch_X.to(device), batch_y.to(device)\n",
    "                    outputs = model(batch_X)\n",
    "                    val_loss = knowledge_distillation_loss(batch_y, outputs)\n",
    "                    val_losses.append(val_loss.item())\n",
    "            \n",
    "            avg_val_loss = np.mean(val_losses)\n",
    "            if avg_val_loss < best_val_loss:\n",
    "                best_val_loss = avg_val_loss\n",
    "                torch.save(model.state_dict(), f'best_model_fold_{fold}.pt')\n",
    "            \n",
    "            if epoch % 10 == 0:\n",
    "                print(f'Epoch {epoch}: Train Loss = {np.mean(train_losses):.4f}, Val Loss = {avg_val_loss:.4f}')\n",
    "        \n",
    "        fold_scores.append(best_val_loss)\n",
    "    \n",
    "    return np.mean(fold_scores)"
   ]
  },
  {
   "cell_type": "markdown",
   "metadata": {},
   "source": [
    "## Normalize and split data\n",
    "\n",
    "Prepare the dataset using RankGauss normalization:"
   ]
  },
  {
   "cell_type": "code",
   "execution_count": null,
   "metadata": {},
   "outputs": [],
   "source": [
    "class GaussRankScaler():\n",
    "    def __init__(self):\n",
    "        self.epsilon = 1e-9\n",
    "        self.lower = -1 + self.epsilon\n",
    "        self.upper = 1 - self.epsilon\n",
    "        self.range = self.upper - self.lower\n",
    "\n",
    "    def fit_transform(self, X):\n",
    "        i = np.argsort(X, axis=0)\n",
    "        j = np.argsort(i, axis=0)\n",
    "\n",
    "        assert (j.min() == 0).all()\n",
    "        assert (j.max() == len(j) - 1).all()\n",
    "\n",
    "        j_range = len(j) - 1\n",
    "        self.divider = j_range / self.range\n",
    "\n",
    "        transformed = j / self.divider\n",
    "        transformed = transformed - self.upper\n",
    "        transformed = scipy.special.erfinv(transformed)\n",
    "\n",
    "        return transformed"
   ]
  },
  {
   "cell_type": "code",
   "execution_count": null,
   "metadata": {},
   "outputs": [],
   "source": [
    "# Load data\n",
    "train = pd.read_csv('train.csv')\n",
    "test = pd.read_csv('test.csv')\n",
    "lgb_train = pd.read_csv('lgbm_train.csv')\n",
    "\n",
    "# Feature engineering\n",
    "def add_features(df):\n",
    "    df['f_2_log'] = np.log1p(df['f_2'])\n",
    "    df['f_28_log'] = np.log1p(df['f_28'])\n",
    "    return df\n",
    "\n",
    "train = add_features(train)\n",
    "test = add_features(test)\n",
    "\n",
    "# Prepare features\n",
    "feature_cols = [col for col in train.columns if col.startswith('f_')]\n",
    "X = train[feature_cols].values\n",
    "y = train['target'].values\n",
    "X_test = test[feature_cols].values\n",
    "teacher_preds = lgb_train['prediction'].values\n",
    "\n",
    "# Scale features using QuantileTransformer    \n",
    "#scaler = QuantileTransformer(n_quantiles=1000, output_distribution='normal')\n",
    "\n",
    "# Replace QuantileTransformer with GaussRankScaler\n",
    "scaler = GaussRankScaler()\n",
    "X = scaler.fit_transform(X)\n",
    "X_test = scaler.transform(X_test)\n",
    "\n",
    "print('Data normalized and split successfully')"
   ]
  },
  {
   "cell_type": "markdown",
   "metadata": {},
   "source": [
    "## Experiment 1: Simple Neural Network\n",
    "\n",
    "In this experiment, we train a simple neural network with binary cross entropy loss:"
   ]
  },
  {
   "cell_type": "code",
   "execution_count": null,
   "metadata": {},
   "outputs": [],
   "source": [
    "params = {\n",
    "    'n_splits': 5,\n",
    "    'epochs': 100,\n",
    "    'batch_size': 1024,\n",
    "    'learning_rate': 0.001\n",
    "}\n",
    "\n",
    "def train_simple_nn(X, y, params):\n",
    "    criterion = nn.BCELoss()\n",
    "    mean_score = train_model(\n",
    "        X, y, None,  # No teacher predictions\n",
    "        n_splits=params['n_splits'],\n",
    "        epochs=params['epochs'],\n",
    "        batch_size=params['batch_size'],\n",
    "        criterion=criterion\n",
    "    )\n",
    "    return mean_score\n",
    "\n",
    "exp1_score = train_simple_nn(X, y, params)\n",
    "print(f'Experiment 1 - Mean validation score: {exp1_score:.4f}')"
   ]
  },
  {
   "cell_type": "markdown",
   "metadata": {},
   "source": [
    "## Experiment 2: Neural Network with Knowledge Distillation\n",
    "\n",
    "Train with knowledge distillation using teacher predictions:"
   ]
  },
  {
   "cell_type": "code",
   "execution_count": null,
   "metadata": {},
   "outputs": [],
   "source": [
    "params['beta'] = 0.1  # Knowledge distillation weight\n",
    "exp2_score = train_model(\n",
    "    X, y, teacher_preds,\n",
    "    n_splits=params['n_splits'],\n",
    "    epochs=params['epochs'],\n",
    "    batch_size=params['batch_size']\n",
    ")\n",
    "print(f'Experiment 2 - Mean validation score: {exp2_score:.4f}')"
   ]
  },
  {
   "cell_type": "markdown",
   "metadata": {},
   "source": [
    "## Experiment 3: Neural Network with Focal Loss\n",
    "\n",
    "Train using focal loss without knowledge distillation:"
   ]
  },
  {
   "cell_type": "code",
   "execution_count": null,
   "metadata": {},
   "outputs": [],
   "source": [
    "exp3_score = train_model(\n",
    "    X, y, None,\n",
    "    n_splits=params['n_splits'],\n",
    "    epochs=params['epochs'],\n",
    "    batch_size=params['batch_size'],\n",
    "    criterion=focal_loss\n",
    ")\n",
    "print(f'Experiment 3 - Mean validation score: {exp3_score:.4f}')"
   ]
  },
  {
   "cell_type": "markdown",
   "metadata": {},
   "source": [
    "## Experiment 4: Neural Network with Knowledge Distillation and Focal Loss\n",
    "\n",
    "Combine both focal loss and knowledge distillation:"
   ]
  },
  {
   "cell_type": "code",
   "execution_count": null,
   "metadata": {},
   "outputs": [],
   "source": [
    "exp4_score = train_model(\n",
    "    X, y, teacher_preds,\n",
    "    n_splits=params['n_splits'],\n",
    "    epochs=params['epochs'],\n",
    "    batch_size=params['batch_size'],\n",
    "    criterion=knowledge_distillation_loss\n",
    ")\n",
    "print(f'Experiment 4 - Mean validation score: {exp4_score:.4f}')\n",
    "\n",
    "# Compare experiment results\n",
    "results = pd.DataFrame({\n",
    "    'Experiment': ['Simple NN', 'Knowledge Distillation', 'Focal Loss', 'KD + Focal Loss'],\n",
    "    'Validation Score': [exp1_score, exp2_score, exp3_score, exp4_score]\n",
    "})\n",
    "print('\\nExperiment Results:')\n",
    "print(results)"
   ]
  },
  {
   "cell_type": "markdown",
   "metadata": {},
   "source": [
    "## Making Predictions\n",
    "\n",
    "Use the trained model to make predictions:"
   ]
  },
  {
   "cell_type": "code",
   "execution_count": null,
   "metadata": {},
   "outputs": [],
   "source": [
    "def predict(model, X):\n",
    "    model.eval()\n",
    "    with torch.no_grad():\n",
    "        X_tensor = torch.FloatTensor(X)\n",
    "        predictions = model(X_tensor)\n",
    "        return predictions.numpy()\n",
    "\n",
    "# Make predictions with each fold's model\n",
    "device = torch.device('cuda' if torch.cuda.is_available() else 'cpu')\n",
    "test_preds = []\n",
    "\n",
    "for fold in range(params['n_splits']):\n",
    "    model = StudentModel(X.shape[1]).to(device)\n",
    "    model.load_state_dict(torch.load(f'best_model_fold_{fold}.pt'))\n",
    "    test_dataset = CustomDataset(X_test, np.zeros((len(X_test), 2)))\n",
    "    test_loader = DataLoader(test_dataset, batch_size=params['batch_size'])\n",
    "    \n",
    "    model.eval()\n",
    "    fold_preds = []\n",
    "    with torch.no_grad():\n",
    "        for batch_X, _ in test_loader:\n",
    "            batch_X = batch_X.to(device)\n",
    "            outputs = model(batch_X)\n",
    "            fold_preds.append(outputs.cpu().numpy()[:, 0])\n",
    "    \n",
    "    fold_preds = np.concatenate(fold_preds)\n",
    "    test_preds.append(fold_preds)\n",
    "\n",
    "# Average predictions across folds\n",
    "final_preds = np.mean(test_preds, axis=0)\n",
    "\n",
    "# Create submission\n",
    "submission = pd.DataFrame({\n",
    "    'id': test['id'],\n",
    "    'target': final_preds\n",
    "})\n",
    "submission.to_csv('submission.csv', index=False)\n",
    "print('Submission saved to submission.csv')\n",
    "\n",
    "# Cleanup\n",
    "for fold in range(params['n_splits']):\n",
    "    os.remove(f'best_model_fold_{fold}.pt')\n",
    "gc.collect()"
   ]
  }
 ],
 "metadata": {
  "kernelspec": {
   "display_name": "Python 3",
   "language": "python",
   "name": "python3"
  },
  "language_info": {
   "codemirror_mode": {
    "name": "ipython",
    "version": 3
   },
   "file_extension": ".py",
   "mimetype": "text/x-python",
   "name": "python",
   "nbconvert_exporter": "python",
   "pygments_lexer": "ipython3",
   "version": "3.8.0"
  }
 },
 "nbformat": 4,
 "nbformat_minor": 4
}
